{
 "cells": [
  {
   "cell_type": "markdown",
   "metadata": {
    "colab_type": "text",
    "id": "ekyx3-Si4Sfh"
   },
   "source": [
    "# Introduksjon til vitenskaplige beregninger, prosjekt nummer 2.\n"
   ]
  },
  {
   "cell_type": "markdown",
   "metadata": {
    "colab_type": "text",
    "id": "wU-bDo9b4BMm"
   },
   "source": [
    "# Introduksjon"
   ]
  },
  {
   "cell_type": "markdown",
   "metadata": {
    "colab_type": "text",
    "id": "pdt_Sh6Y4F2c"
   },
   "source": [
    "Dette prosjektet omhandler deep-learning, som er en underkategori av maskinlæring. I dette prosjeketet skal maskinen vår løse binære problemstillinger, det vil si at den har to alternativer hvor det ene alternativet er true og det andre er false. Den første problemstillingen går ut på å lære opp programmet til å sortere punkter basert på posisjon for å avgjøre fargen til punktet. Punktene kan enten være blå eller røde. I den andre problemstillingen skal man lære opp programet til å skille mellom to siffer mellom 0 og 9. Måten problemet løses på, er ved å ta inn vektorer som representerer rådataene sammen med en fasit. Man utfører transformasjoner på rådata-vektorene så mange ganger som er gunstig, før man projiserer disse vektorene. Fra denne projiseringen får man en skalar mellom null og en, hvor en representerer positivt utfall og null representerer negativt utfall. Ved hjelp av fasiten kan man dermed forandre på transformasjonene helt til programmets resultat avviker så lite fra fasiten som man selv ønsker. Etter dette lagrer man parametrene som utfører transformasjonene, og programmet er klart til å benyttes.\n",
    "\n",
    "Denne raporten inneholder først en kort introduksjon av problemstillingene og løsningsmetoden, deretter blir koden og algoritmene brukt i begge oppgavene presentert. Videre presenteres og diskuteres resultatene i de to testproblemene. Til slutt blir valg av parametere begrunnet."
   ]
  },
  {
   "cell_type": "markdown",
   "metadata": {
    "colab_type": "text",
    "id": "VzSD-g9MwdUX"
   },
   "source": [
    "# Biblioteker og globale variabler"
   ]
  },
  {
   "cell_type": "code",
   "execution_count": 3,
   "metadata": {
    "colab": {},
    "colab_type": "code",
    "id": "75IN2HFaFCZN"
   },
   "outputs": [],
   "source": [
    "#Importerer nyttige biblioteker og hjelpefunksjoner\n",
    "import numpy as np\n",
    "import matplotlib.pyplot as plt\n",
    "from plotting import plot_progression, plot_model, plot_separation\n",
    "from spirals import get_data_spiral_2d\n",
    "from loader import get_dataset\n",
    "import random\n",
    "import time\n",
    "\n",
    "#--------------------------------------------------------------------------------------\n",
    "#Definerer noen konstanter som ikke forandrer seg i løpet av gjennomkjøringene\n",
    "h = 0.1 #skrittlengde\n",
    "tau = 0.1 #Læringsparameter\n",
    "\n",
    "#Konstanter til Adam-descent \n",
    "beta1 = 0.9\n",
    "beta2 = 0.999\n",
    "alpha = 0.1\n",
    "epsilon= 10**(-8)\n",
    "#--------------------------------------------------------------------------------------\n"
   ]
  },
  {
   "cell_type": "markdown",
   "metadata": {
    "colab_type": "text",
    "id": "lSrGAQkdwkkI"
   },
   "source": [
    "# Hjelpefunksjoner"
   ]
  },
  {
   "cell_type": "code",
   "execution_count": 15,
   "metadata": {
    "colab": {},
    "colab_type": "code",
    "id": "l4quRmmtSJVm"
   },
   "outputs": [],
   "source": [
    "#definerer noen hjelpefunksjoner som benyttes i ulike deler av oppgavene.\n",
    "def sigma(X): #Sigmoid function\n",
    "    #Ved andre optimeringsmetoder, er det bare å sette inn nye skaleringsmetoder, avhengig av hva som fungerer\n",
    "\n",
    "    #Veldig viktig å bruke rikitg Sigma basert på problemet for å i det hele tatt få konvergens\n",
    "    #Tast inn # foran den som ikke brukes, og kjør denne cellen på nytt\n",
    "    \n",
    "    #return np.tanh(X)       #Brukes i spiralproblemet\n",
    "    return np.tanh(X/1000)  #Brukes i MNIST problemet.\n",
    "    \n",
    "\n",
    "def sigmader(X):#Deriverte av sigma\n",
    "    return -sigma(X)**2+1\n",
    "    \n",
    "def etta(X): #Aktiveringsfunksjon\n",
    "    return 0.5*(1+sigma(X/2))\n",
    "\n",
    "def ettader(X): #Deriverte av etta\n",
    "    return (1/4)*(-(sigma(X/2))**2+1)\n",
    "#-----------------------------------------------------------------------------------------------------\n",
    "\n",
    "\n",
    "#Gjør om en batchet B til en med riktig størrelse. (shortB=KxdxI_batch, output=KxdxI_tot)\n",
    "def finalB(shortB,I_tot): \n",
    "    d=len(shortB[0])\n",
    "    K=len(shortB)\n",
    "    \n",
    "    standard= np.zeros((K,d))\n",
    "    standard=list(standard)\n",
    "    #Gjør standard til en Kxd med riktige verdier\n",
    "    for k in range(K):\n",
    "        for i in range(d):\n",
    "            standard[k][i]=shortB[k][i][0]\n",
    "    \n",
    "    #Gjør standard til KxdxI_max\n",
    "    for j in range(K):\n",
    "        standard[j]=list(standard[j])\n",
    "    for j in range(K):\n",
    "        standard[j]=[standard[j]]\n",
    "        for i in range(I_tot-1):\n",
    "            standard[j].append(standard[j][i])\n",
    "        standard[j]=np.array(standard[j]).transpose()\n",
    "    return np.array(standard)\n",
    "#----------------------------------------------------------------------------------------\n",
    "\n",
    "def answercheck(Z,C):#Sjekker verdier og fasit og returnerer hvor stor prosentandel er rikitg\n",
    "    correct=0\n",
    "    total=0\n",
    "    for i in range(len(Z)):\n",
    "        if round(Z[i],0)==C[i]:\n",
    "            correct+=1\n",
    "            total+=1\n",
    "        else:\n",
    "            total+=1\n",
    "    return correct*100/total\n",
    "\n",
    "def formatC(C): #Omdanner fasit C fra True, False til 0,1, og vi kan dermed beregne avvik.\n",
    "    nyC=[0 for i in range(len(C))]\n",
    "    for i in range(len(C)):\n",
    "        if C[i]:\n",
    "            nyC[i]+=(1)\n",
    "    return np.array(nyC)\n",
    "\n",
    "def zconvert(Z): #Runder av Z til 0 eller 1.\n",
    "    for el in Z:\n",
    "        el=round(el,0)\n",
    "    return Z\n",
    "\n",
    "#--------------------------------------------------------------------------------\n",
    "def objektfunksjon(Z, C):#Returnerer J, som er en skalar\n",
    "    J= 0.5 * sum((Z-C)**2) \n",
    "    return J\n",
    "\n",
    "def Jplot(Jliste):      #plotter J med tanke på antall iterasjoner som er utført.\n",
    "    iterasjoner=[i for i in range(len(Jliste))]\n",
    "    plt.plot(iterasjoner,Jliste,label=\"J\")\n",
    "    plt.xlabel(\"Iterasjoner\", size=20)\n",
    "    plt.ylabel(\"J\",size=20)\n",
    "    plt.legend()\n",
    "    plt.grid()\n",
    "    plt.show()\n",
    "\n",
    "#------------"
   ]
  },
  {
   "cell_type": "markdown",
   "metadata": {
    "colab_type": "text",
    "id": "pLKq-bII_R9Q"
   },
   "source": [
    "# Save/load - parametre"
   ]
  },
  {
   "cell_type": "code",
   "execution_count": 5,
   "metadata": {
    "colab": {},
    "colab_type": "code",
    "id": "SCqVn9Vl_Y06"
   },
   "outputs": [],
   "source": [
    "#Disse funksjonene kan benyttes til å lagre samt laste inn parametre\n",
    "#------------------------------------------------------------------------------------\n",
    "def makefile(tall=\"\"):#Lager filer for oppbevaring av parametre.\n",
    "    navnliste=[\"W-file\",\"b-file\",\"omega-file\",\"my-file\"]\n",
    "    endelse=\".npy\"\n",
    "    for el in navnliste:\n",
    "        f=open(el+str(tall)+endelse,\"w\")\n",
    "        f.close()\n",
    "\n",
    "def saveparam(W,b,omega,my,tall=\"\"):\n",
    "    navnliste=[\"W-file\",\"b-file\",\"omega-file\",\"my-file\"]\n",
    "    endelse=\".npy\"\n",
    "    paramliste=[W,b,omega,my]\n",
    "    for i in range(len(navneliste)):\n",
    "        np.save(navneliste[i]+tall+endelse,paramliste[i])\n",
    "\n",
    "def loadparam(tall=\"\"):\n",
    "    navnliste=[\"W-file\",\"b-file\",\"omega-file\",\"my-file\"]\n",
    "    endelse=\".npy\"\n",
    "    paramliste=[W,b,omega,my]\n",
    "    for i in range(len(paramliste)):\n",
    "        paramliste[i]=np.load(navneliste[i]+tall+endelse)\n",
    "    return paramliste[0],paramliste[1],paramliste[2],paramliste[3]\n"
   ]
  },
  {
   "cell_type": "markdown",
   "metadata": {
    "colab_type": "text",
    "id": "m8bMT7bI7H1S"
   },
   "source": [
    "# Inital weights and biases:"
   ]
  },
  {
   "cell_type": "code",
   "execution_count": 6,
   "metadata": {
    "colab": {},
    "colab_type": "code",
    "id": "PJ_50OWt7LAc"
   },
   "outputs": [],
   "source": [
    "#Initialiseringsfunksjon:\n",
    "def makeOmegaMyWb(K,d,I):       #Initialiserer W,b,omega og my\n",
    "    omega= np.random.rand(d) /d #definerer omega som d-vektor med tall i [0,1/d]\n",
    "    my=random.random() /d       #definerer my som tall i [0,1/d]\n",
    "    W=np.random.rand(K,d,d) /d  #definerer W som Kxdxd med tall i [0,1/d]\n",
    "    \n",
    "    #-----------------------------------\n",
    "    #definerer b som KxdxI med tall i [0,1/d]\n",
    "    #Grunnen til at vi velger å definere b på dette viset\n",
    "    #er at vi kjører flere bilder på en gang, ikke ett og ett bilde\n",
    "    standard= np.random.uniform(0, 1, (K,d) )\n",
    "    standard=list(standard)\n",
    "    for j in range(K):\n",
    "        standard[j]=list(standard[j])\n",
    "    for j in range(K):\n",
    "        standard[j]=[standard[j]]\n",
    "        for i in range(I-1):\n",
    "            standard[j].append(standard[j][i])\n",
    "        standard[j]=np.array(standard[j]).transpose()\n",
    "    b = np.array(standard) /d \n",
    "    #---------------------------------------\n",
    "    return omega, my, W, b\n",
    "\n",
    "#---------------------------------------------------------------\n"
   ]
  },
  {
   "cell_type": "markdown",
   "metadata": {
    "colab_type": "text",
    "id": "KcdZHkdu6rJ1"
   },
   "source": [
    "# Forward propagation"
   ]
  },
  {
   "cell_type": "code",
   "execution_count": 7,
   "metadata": {
    "colab": {},
    "colab_type": "code",
    "id": "v2v3zjyE6ui0"
   },
   "outputs": [],
   "source": [
    "\n",
    "#Anvender vektene og biasene på bildene og transformerer bildevektorene\n",
    "def bildetransformasjon(Yk, Wk, bk): \n",
    "    return Yk + h*sigma(Wk@Yk+bk)\n",
    "  \n",
    "#Lager en liste med Y etter transformasjonene (Altså [Y_0, Y_1,..., Y_(K-1)])\n",
    "def Yfinder(W,b,Y):\n",
    "    Ylist=[0 for i in range(len(W))]\n",
    "    Ylist[0]=Y\n",
    "    for i in range(1,len(W)):\n",
    "        Y=bildetransformasjon(Y,W[i],b[i])\n",
    "        Ylist[i]=Y\n",
    "    return Ylist  \n",
    "#----------------------------------------------------------------------------------------------------\n",
    "#Prosjiserer bildematrisen og returnerer Z, som da vil være parametrene våre sin binære klassifisering av bildet (Y_0), oppgitt som en \n",
    "#vektor med sannsynligheter mellom 0 og 1\n",
    "def prosjisering(Y_K,omega,my): \n",
    "    return etta( Y_K.transpose()@omega+my*np.ones(len(Y_K[0])) ) \n"
   ]
  },
  {
   "cell_type": "markdown",
   "metadata": {
    "colab_type": "text",
    "id": "Su1YzwLn6b_1"
   },
   "source": [
    "# Backpropagation"
   ]
  },
  {
   "cell_type": "code",
   "execution_count": 8,
   "metadata": {
    "colab": {},
    "colab_type": "code",
    "id": "0hK7ZXMB6hgj"
   },
   "outputs": [],
   "source": [
    "#Funksjoner for back-propagation\n",
    "#-------------------------------\n",
    "#Funksjonen finner P_K\n",
    "def P_K(Y_K, omega, my, Z, C):\n",
    "    I=len(Y_K[0])\n",
    "\n",
    "    #En måte å få dx1 @ 1xI =dxI\n",
    "    faktor1=omega\n",
    "    faktor1=np.array([faktor1 for i in range(len(faktor1))]).transpose()\n",
    "    faktor2=( (Z-C) * ettader(Y_K.transpose()@omega + my*np.ones(I)) ).transpose()\n",
    "    faktor2=np.array([faktor2 for i in range(len(faktor1))])\n",
    "    return (faktor1@faktor2)/2\n",
    "\n",
    "#Funksjonen finner P_(k-1) gitt P_k, W_(k-1), Y_(k-1) og b_(k-1)\n",
    "def P_kmin1(P_k,W_kmin1,Y_kmin1, b_kmin1): \n",
    "    return P_k + h*W_kmin1.transpose()@(sigmader(W_kmin1@Y_kmin1 + b_kmin1) * P_k)\n",
    "\n",
    "#Funksjonen returnerer en liste med alle P-verdiene.\n",
    "def P_finder(Y,W,b,omega,my,Z,C,zeros): #Returnerer en array [0-matrise, P_1, P_2, ..., P_K]\n",
    "    K=len(W); I=len(Y[0][0]); d=len(W[0])\n",
    "    P=zeros                             #zeros er (K+1)xdxI\n",
    "\n",
    "    P[-1]=P_K(Y[-1],omega,my,Z,C)       #Legger til siste element, P_K\n",
    "    for k in range(K,1,-1): #Representerer at vi regner P_k. (Går fra K-1 siden K allerede er funnet, og til og med 1, siden P_1 er den laveste vi trenger)\n",
    "        P[k-1] = P_kmin1(P[k] , W[k-1], Y[k-1], b[k-1]) #Legger til den nye P_k i starten av P-lista\n",
    "\n",
    "    return P\n"
   ]
  },
  {
   "cell_type": "markdown",
   "metadata": {
    "colab_type": "text",
    "id": "hk3I6HzGworm"
   },
   "source": [
    "# Funksjoner for å finne gradienten til J"
   ]
  },
  {
   "cell_type": "code",
   "execution_count": 9,
   "metadata": {
    "colab": {},
    "colab_type": "code",
    "id": "XlXXbZEYSKCP"
   },
   "outputs": [],
   "source": [
    "#------------------------------------------------------------------------------------\n",
    "#Hjelpefunksjoner som finner komponentene til gradienten av J.\n",
    "def dJdmy(Yk, omega, my, Z, C, ones):\n",
    "    return ettader( Yk.transpose()@omega + my*ones ).transpose()@(Z-C)\n",
    "\n",
    "def dJdomega(Yk,omega, my, Z, C, ones):\n",
    "    return Yk @ ( (Z - C) * ettader(Yk.transpose()@omega + my*ones ) )\n",
    "\n",
    "def dJdW(P_kplus1, W_k, Y_k, b_k):\n",
    "    return h * (P_kplus1 * sigmader(W_k@Y_k + b_k))@Y_k.transpose()\n",
    "\n",
    "def dJdb(P_kplus1, W_k, Y_k, b_k,ones):\n",
    "    return h*(P_kplus1 * sigmader(W_k@Y_k + b_k))@ones \n",
    "#------------------------------------------------------------------------------------------\n",
    "#Nablaoperator, regner ut gradienten til J. returnerer gradienten komponentvis\n",
    "def nabJ(W, b , omega, my,Y,C, dJdWNy, dJdbNy,ones,zeros):\n",
    "    K=len(W)\n",
    "    Y_Kmin1 = Y[-1] #Dette er da det siste elementet i Y (som er [Y_0, Y_1,..., Y_(K-1)])\n",
    "\n",
    "    #Finner Z\n",
    "    Z = prosjisering(Y_Kmin1, omega, my)\n",
    "    \n",
    "    #Finner dJdomega=dx1 og dJdmy=skalar\n",
    "    dJdomegaNy = dJdomega(Y_Kmin1, omega, my, Z, C, ones[0])\n",
    "    dJdmyNy = dJdmy(Y_Kmin1, omega, my, Z, C, ones[0])\n",
    "\n",
    "    #Finner P ([P_0, P_1,..., P_K], hvor P_0 er nullmatrise)\n",
    "    P = P_finder(Y,W,b,omega,my,Z,C,zeros)\n",
    "    #Iterer fra [0,K-1] og finner gjennom hver iterasjon dJdW_k og dJdb_k, som til sammen blir hele dJdW=Kxdxd og dJdb=KxdxI\n",
    "    for i in range(0, K):\n",
    "        dJdWNy[i]=dJdW(P[i+1], W[i], Y[i], b[i])\n",
    "        dJdbNy[i]=dJdb(P[i+1],W[i],Y[i],b[i],ones)\n",
    "\n",
    "    return dJdWNy,dJdbNy,dJdomegaNy,dJdmyNy\n",
    "#------------------------------------------------------------------------------------------------------\n"
   ]
  },
  {
   "cell_type": "markdown",
   "metadata": {
    "colab_type": "text",
    "id": "aPInIKWZ5fbz"
   },
   "source": [
    "# Optimeringsfunksjoner:\n",
    "\n"
   ]
  },
  {
   "cell_type": "code",
   "execution_count": 10,
   "metadata": {
    "colab": {},
    "colab_type": "code",
    "id": "CpGSmFqU5zI_"
   },
   "outputs": [],
   "source": [
    "#I begge optimeringsfunksjonene har vi gjort alt komponentvis\n",
    "\n",
    "#Vanilla-optimering\n",
    "def optimeringsfunk(W, b , omega, my,Y,C,tau, dJdWNy, dJdbNy,ones, zeros): \n",
    "    '''Her vil komponentene av J bevege seg i retningen som minimerer J,\n",
    "    ergo de vil bevege seg i i retning -nabJ. \n",
    "    W2,b2, omega2 og my2 er komponentene til gradienten av J,\n",
    "    mens W,b,omega og my er komponentene til J'''\n",
    "    W2,b2,omega2,my2 = nabJ(W, b , omega, my, Y, C, dJdWNy, dJdbNy,ones, zeros) \n",
    "    W-= tau*W2;  b-= tau*b2;  omega-= tau*omega2;  my-= tau*my2\n",
    "    return W,b,omega,my\n",
    "#---------------------------------------------------------------------------------\n",
    "\n",
    "#Adam-descent-algortihm\n",
    "def Adam(W,b, omega, my, Y, C, dJdWNy,dJdbNy, ones,zeros,m0W,m0b,m0omega, m0my, v0W,v0b, v0omega,v0my, i):\n",
    "\n",
    "    #Finner g_j\n",
    "    dJdW, dJdb, dJdomega, dJdmy = nabJ(W, b , omega, my,Y,C, dJdWNy, dJdbNy, ones,zeros)\n",
    "    \n",
    "    #m_j\n",
    "    m0W = beta1*m0W + (1-beta1)*dJdW\n",
    "    m0b = beta1*m0b + (1-beta1)*dJdb\n",
    "    m0omega = beta1*m0omega + (1-beta1)*dJdomega\n",
    "    m0my = beta1*m0my + (1-beta1)*dJdmy\n",
    "    \n",
    "    #v_j\n",
    "    v0W = beta2*v0W + (1-beta2)*(dJdW*dJdW)\n",
    "    v0b = beta2*v0b + (1-beta2)*(dJdb*dJdb)\n",
    "    v0omega = beta2*v0omega + (1-beta2)*(dJdomega*dJdomega)\n",
    "    v0my = beta2*v0my + (1-beta2)*(dJdmy*dJdmy)\n",
    "    \n",
    "    #mhatt_j\n",
    "    mhattW = m0W / ( 1 - beta1**(i+1) ) #i+1 siden vi starter indekser på 0, mens denne skal starte på 1\n",
    "    mhattb = m0b / ( 1 - beta1**(i+1) )\n",
    "    mhattomega = m0omega / ( 1 - beta1**(i+1) )\n",
    "    mhattmy = m0my / ( 1 - beta1**(i+1) )\n",
    "    \n",
    "    #vhatt_j\n",
    "    vhattW = v0W / ( 1 - beta2**(i+1) )\n",
    "    vhattb = v0b / ( 1 - beta2**(i+1) )\n",
    "    vhattomega = v0omega / ( 1 - beta2**(i+1) )\n",
    "    vhattmy = v0my / ( 1 - beta2**(i+1) )\n",
    "    \n",
    "    #U_(j+1)\n",
    "    W -= alpha * mhattW / ( np.sqrt(vhattW) + epsilon )\n",
    "    b -= alpha * mhattb / ( np.sqrt(vhattb) + epsilon )\n",
    "    omega -= alpha * mhattomega / ( np.sqrt(vhattomega) + epsilon )\n",
    "    my -= alpha * mhattmy / ( np.sqrt(vhattmy) + epsilon )\n",
    "  \n",
    "    return W, b, omega, my, m0W, m0b, m0omega, m0my, v0W, v0b, v0omega, v0my\n",
    "    "
   ]
  },
  {
   "cell_type": "markdown",
   "metadata": {
    "colab_type": "text",
    "id": "VjYao0ZGI5Sr"
   },
   "source": [
    "# Treningsalgoritmer"
   ]
  },
  {
   "cell_type": "code",
   "execution_count": 11,
   "metadata": {
    "colab": {},
    "colab_type": "code",
    "id": "O0bBsUcZSMVT"
   },
   "outputs": [],
   "source": [
    "#Initialiserer og trener W,b,omega,my på et treningssett maxiter ganger, eller når toleransen er nådd. adamopt er bool\n",
    "def generalTrain(pictures,fasit,K,Jtol,adamopt):\n",
    "    I=len(pictures[0]); d=len(pictures)  #Henter ut lengde og format.\n",
    "\n",
    "    omega,my,W,b = makeOmegaMyWb(K,d,I)  #omega=dx1, my=skalar, W=Kxdxd, b=KxdxI,    tall innhold i [0,1/d]\n",
    "\n",
    "    #Definerer noen matriser for bruk i senere funksjoner slik at vi kun inistialiserer dem én gang\n",
    "    Kdd0 = np.zeros((K, d,d))     #Kxdxd med 0 i hvert element\n",
    "    KdI0 = np.zeros((K, d, I))    #KxdxI med 0 i hvert element\n",
    "    II1=np.ones((I,I))            #IxI med 1 i hvert element\n",
    "    zeros=np.zeros((K+1,d,I))     #Brukes i P-finder\n",
    "    #---\n",
    "\n",
    "    #Øvre iterasjonsgrense\n",
    "    #maxiter=1000                  #Brukes i spiral-problemet\n",
    "    maxiter=10                   #Brukes i MNIST-problemet\n",
    "\n",
    "    iter=0                        #Starter på ingen iterasjoner\n",
    "    J=[100]                       #Lager liste med J, altså avvikene\n",
    "    #---\n",
    "\n",
    "    #Lager en matrise lik W men med 0 i alle elementer tilsvarende for b,omega og my\n",
    "    m0W=0*np.copy(W); m0b=0*np.copy(b); m0omega=0*np.copy(omega); m0my=0*np.copy(my)\n",
    "    v0W=np.copy(m0W); v0b=np.copy(m0b); v0omega=np.copy(m0omega); v0my=np.copy(m0my)\n",
    "\n",
    "    #\n",
    "    while(J[-1]>Jtol and iter<maxiter):     #Begynner å iterere\n",
    "\n",
    "        Y=Yfinder(W,b,pictures)             #Anvender W og b på bildet\n",
    "        Z=prosjisering(Y[-1],omega,my)      #Får ut liste med sannsynligheter\n",
    "\n",
    "        #-------\n",
    "        #Regner ut og oppdaterer W,b,omega,my etter gradienten\n",
    "        if adamopt:#Bruker adamopt\n",
    "            W,b,omega,my, m0W, m0b, m0omega, m0my, v0W, v0b, v0omega, v0my = Adam(W,b, omega, my, Y, fasit, Kdd0,KdI0, II1,zeros, m0W,m0b,m0omega, m0my, v0W,v0b, v0omega,v0my, iter)\n",
    "        else:#Bruker vanilla\n",
    "            W,b,omega,my=optimeringsfunk(W,b,omega,my,Y,fasit,tau, Kdd0, KdI0,II1,zeros)\n",
    "        #--------\n",
    "\n",
    "        #For å plotte J som en funksjon av iterasjoner\n",
    "        J.append(objektfunksjon(Z,fasit))\n",
    "    del J[0] #Fjerner den verdien vi initialiserte med\n",
    "\n",
    "    return W,b,omega,my,answercheck(Z,fasit),J #returnerer opptrente parametre samt siste accuracy-måling\n",
    "#---------------------------------------------------------------------------------\n",
    "\n",
    "\n",
    "#---------------------------------------------------------------------------------------\n",
    "#Trener W,b,omega,my på et treningssett maxiter ganger, eller når toleransen er nådd\n",
    "#denne funksjonen benyttes når vi kjører batches, da vi skal ta inn W,b, omega og my fra tidligere kjøringer\n",
    "def trainAgain(W,b,omega,my,Y0,fasit,K,Jtol,adamopt):\n",
    "    I=len(Y0[0]); d=len(Y0)#Henter ut format\n",
    "\n",
    "    #Definerer noen matriser for bruk i senere funksjoner\n",
    "    Kdd0 = np.zeros((K, d,d)) #Kxdxd med 0 i hvert element\n",
    "    KdI0 = np.zeros((K, d, I)) #KxdxI med 0 i hvert element\n",
    "    II1=np.ones((I,I)) #IxI med 1 i hvert element\n",
    "    zeros=np.zeros((K+1,d,I))#Brukes i P-finder\n",
    "    #---\n",
    "\n",
    "    #Øvre iterasjonsgrense\n",
    "    #maxiter=1000                  #Brukes i spiral-problemet\n",
    "    maxiter=10                   #Brukes i MNIST-problemet\n",
    "\n",
    "    iter=0\n",
    "    J=[1000]\n",
    "    #---\n",
    "    #Lager en matrise lik W men med 0 i alle elementer tilsvarende for b,omega og my\n",
    "    m0W=0*np.copy(W); m0b=0*np.copy(b); m0omega=0*np.copy(omega); m0my=0*np.copy(my)\n",
    "    v0W=np.copy(m0W); v0b=np.copy(m0b); v0omega=np.copy(m0omega); v0my=np.copy(m0my)\n",
    "\n",
    "    while(J[-1]>Jtol and iter<maxiter):#Begynner å iterere\n",
    "\n",
    "        Y=Yfinder(W,b,Y0) #Applyer W og b til bildet\n",
    "        Z=prosjisering(Y[-1],omega,my) #Får ut liste med sannsynligheter\n",
    "    \n",
    "        #---------\n",
    "        #Regner ut og oppdaterer W,b,omega,my etter gradienten\n",
    "        if adamopt:#Adam\n",
    "            W,b,omega,my, m0W, m0b, m0omega, m0my, v0W, v0b, v0omega, v0my = Adam(W,b, omega, my, Y, fasit, Kdd0,KdI0, II1,zeros, m0W,m0b,m0omega, m0my, v0W,v0b, v0omega,v0my, iter)\n",
    "        else:#Vanilla\n",
    "            W,b,omega,my=optimeringsfunk(W,b,omega,my,Y,fasit,tau, Kdd0, KdI0,II1,zeros)\n",
    "        #--------\n",
    "\n",
    "        #For å plotte J som en funksjon av iterasjoner\n",
    "        J.append(objektfunksjon(Z,fasit))\n",
    "        iter+=1\n",
    "    del J[0]#Fjerner første element som vi hadde satt som 1000\n",
    "\n",
    "    return W,b,omega,my,answercheck(Z,fasit),J"
   ]
  },
  {
   "cell_type": "code",
   "execution_count": 12,
   "metadata": {
    "colab": {},
    "colab_type": "code",
    "id": "gKkBBedaSMiP"
   },
   "outputs": [],
   "source": [
    "#Funksjon som deler opp bildene i pakker og kjører pakkevis\n",
    "\n",
    "def batchTrain(pictures,fasit,K,Jtol,batchsize,adamopt):\n",
    "    #-------\n",
    "    #Lager currentbatch og currentfasit\n",
    "    batches=len(pictures[0])//batchsize\n",
    "    picinvert=pictures.transpose() #inverterer bilde-matrisen\n",
    "    currentbatch=picinvert[0:batchsize].transpose() #Lager et mindre bilde med lengde batchsize\n",
    "    currentfasit=fasit[0:batchsize]\n",
    "    #------\n",
    "    #Bruker generalTrain første gangen for å initialisere W,b,omega,my\n",
    "    W,b,omega,my,currentacc,J = generalTrain(currentbatch,currentfasit,K,Jtol,adamopt)#Initsialiserer W,b,omega og my og trener dem på batch nr 1\n",
    "    #---\n",
    "    #Trener samme W,b,omega og my på nye bildebatcher\n",
    "    for i in range(1,batches-1):\n",
    "        #Henter ny currentbatch og currentfasit\n",
    "        currentbatch=picinvert[batchsize*i:batchsize*(i+1)].transpose()\n",
    "        currentfasit=fasit[batchsize*i:batchsize*(i+1)]\n",
    "        #Trener W,b,omega,my\n",
    "        W,b,omega,my,currentacc,Jny=trainAgain(W,b,omega,my,currentbatch,currentfasit,K,Jtol,adamopt)\n",
    "        J+=Jny #Legger til J-tilegget fra batch-treningen\n",
    "        #Dersom vi har et lite nok avvik, så breaker den ut av forløkka og returnerer W,b,omega,my\n",
    "        if J[-1]<Jtol:\n",
    "            break\n",
    "\n",
    "    return W,b,omega,my,J #MERK!! Tar ikke med restbilder om bilder%batches >0(dvs rest)"
   ]
  },
  {
   "cell_type": "markdown",
   "metadata": {
    "colab_type": "text",
    "id": "Y60FyCMqE1uv"
   },
   "source": [
    "# Oppgave 4.1 - Spiraler\n"
   ]
  },
  {
   "cell_type": "code",
   "execution_count": 13,
   "metadata": {
    "colab": {},
    "colab_type": "code",
    "id": "zqUiUuY9SMtf"
   },
   "outputs": [],
   "source": [
    "#To forskjellige treningsfunksjoner. En som kjører alle bildene samtidig, og en som deler opp i batcher\n",
    "def trainingspiral(I,K,tol,adamopt):\n",
    "    Y0,C=get_data_spiral_2d(I)\n",
    "    C=formatC(C)\n",
    "    return generalTrain(Y0,C,K,tol)\n",
    "\n",
    "def batchspiral(I,K,tol,batchsize,adamopt):\n",
    "    Y0,C=get_data_spiral_2d(I)\n",
    "    C=formatC(C)\n",
    "    return batchTrain(Y0,C,K,tol,batchsize,adamopt)\n"
   ]
  },
  {
   "cell_type": "code",
   "execution_count": 14,
   "metadata": {
    "colab": {
     "base_uri": "https://localhost:8080/",
     "height": 813
    },
    "colab_type": "code",
    "id": "f0KStZf8SM6K",
    "outputId": "8118af1a-c845-464d-e95f-1d76559e5456"
   },
   "outputs": [
    {
     "data": {
      "image/png": "[encoded data removed]",
      "text/plain": [
       "<Figure size 432x288 with 1 Axes>"
      ]
     },
     "metadata": {
      "needs_background": "light"
     },
     "output_type": "display_data"
    },
    {
     "data": {
      "image/png": "[encoded data removed]",
      "text/plain": [
       "<Figure size 432x288 with 1 Axes>"
      ]
     },
     "metadata": {
      "needs_background": "light"
     },
     "output_type": "display_data"
    },
    {
     "data": {
      "image/png": "[encoded data removed]",
      "text/plain": [
       "<Figure size 432x288 with 1 Axes>"
      ]
     },
     "metadata": {
      "needs_background": "light"
     },
     "output_type": "display_data"
    },
    {
     "name": "stdout",
     "output_type": "stream",
     "text": [
      "Prosent riktige: 98.52 %\n",
      "kjøretid:  5.6150963306427\n"
     ]
    }
   ],
   "source": [
    "#Dette er algoritmen vår som man kan kjøre og teste\n",
    "def testSpirals(I,K,tol,batchsize,batch,adamopt):#I er antall bilder, K er antall lag, batchsize er bilder per batch,batch er bool, adamopt er bool\n",
    "    startTid = time.time()#Tar tiden ved start\n",
    "    if batch:\n",
    "        W,b,omega,my,J=batchspiral(I,K,tol,batchsize,adamopt) #Initialiserer og optimaliserer W,b,omega,my batchvis.\n",
    "        b=finalB(b,I) #Gir b riktig format for å fungere på alle bilder samtidig\n",
    "    else:\n",
    "        W,b,omega,my,J = trainingspiral(I,K,tol)\n",
    "    Jplot(J) #Plotter J med iterasjonsnummer på x-aksen. Unaturlige hopp kan skyldes ny batch\n",
    "    \n",
    "    spiralpoints, fasit = get_data_spiral_2d(I) #Lager et nytt datasett vi skal teste nettverket vårt på\n",
    "    fasit=formatC(fasit) #Gjør fasiten(C) leselig\n",
    "    spirallist=Yfinder(W,b,spiralpoints) #Anvender W og b på Y\n",
    "    spirallist=np.array(spirallist)\n",
    "    Z=prosjisering(spirallist[-1],omega,my) #Finner Z, som vil være Ix1 med tall i intervallet [0,1]\n",
    "\n",
    "    EnDimPixler=500\n",
    "    def forward_function(Y0):\n",
    "        Y = Yfinder(W,finalB(b,int(EnDimPixler**2)),Y0)\n",
    "        Z=prosjisering(Y[-1],omega,my)\n",
    "        Z=zconvert(Z)\n",
    "        return Z\n",
    "    def last_function(Y_Kmin1):\n",
    "        Z=prosjisering(Y_Kmin1,omega,my)\n",
    "        Z=zconvert(Z)\n",
    "        return Z\n",
    "\n",
    "    #plot_progression(spirallist,fasit)#Brukt under testing\n",
    "    plot_model(forward_function,spirallist[0],fasit,EnDimPixler)\n",
    "    plot_separation(last_function,spirallist[-1],fasit,EnDimPixler)\n",
    "    print(\"Prosent riktige:\",answercheck(Z,fasit),\"%\")\n",
    "\n",
    "    sluttTid = time.time()#Tar tiden ved slutt\n",
    "    print(\"kjøretid: \", sluttTid-startTid)\n",
    "\n",
    "\n",
    "testSpirals(5000,17,1,500,True,True)#10 000 bilder, 17 lag, 1 toleranse, 500 bilder per batch, ja til batching, ja til adamopt\n",
    "\n",
    "\n"
   ]
  },
  {
   "cell_type": "markdown",
   "metadata": {
    "colab_type": "text",
    "id": "SeDkGftXIG2z"
   },
   "source": [
    "Vi ser fra grafen hvor kvadratisk avvik, J, blir plottet mot iterasjoner, at etter 60 iterasjoner begynner programmet å lære hvordan den skal sortere punktene effektivt. Dette fortsettes en liten stund helt til vi har mindre avvik enn hva minstekravet er, som vi antar betyr at koden er god nok.\n",
    "\n",
    "Fra plottene med spiralene ser vi at punktene starter i en spiral, men avhengig av posisjonen til punktene, beveger de seg i en eller annen retning. Dette tyder på at programmet bruker posisjonen til punktene til å avgjøre om de er rød eller blå. Derfor vil noen av punktene som befinner seg veldig tett opptil motsatt farget punkter bevege seg i feil retning. For en god del av punktene som beveger seg i feil retning vil programmet etter hvert identifisere denne feilen, men dette forblir en feilkilde i programmet. Måten man kan minske denne feilkilden mest mulig, er ved å ha mange nok iterasjoner av mange nok bilder eller batcher.\n",
    "\n",
    "En annen feilkilde, som minimeres når man kjører treningen i batches, er at det å bevege seg langs negativ gradient ikke er ensbetydende med å bevege seg mot globalt minimum. Man kan derfor ende i en situasjon hvor komponentene til $J$ beveger seg mot et lokalt minimum. Dette resulterer i en høyere $J$ enn hva som er gunstig, og dermed et dårligere resultat. Hvis man kjører batches, istedefor å kjøre alle bildene på en gang, vil man unngå dette problemet til større grad, da det er vanskeligere å ende opp i lokale minimum flere ganger. En annen måte å unngå dette problemet på er ved å forandre på læringsparameteren $\\tau$ og steglengden $h$."
   ]
  },
  {
   "cell_type": "markdown",
   "metadata": {
    "colab_type": "text",
    "id": "16gn3zAyFB_f"
   },
   "source": [
    "# Oppgave 4.2 - MNIST"
   ]
  },
  {
   "cell_type": "code",
   "execution_count": 16,
   "metadata": {
    "colab": {},
    "colab_type": "code",
    "id": "oV5L71EiKQ90"
   },
   "outputs": [],
   "source": [
    "#Deler opp mnist bildene i batcher og trener på batchene. K antall lag, batchsize er bilder per batch, adamopt er bool\n",
    "def mnistbatchtrain(K,Jtol,batchsize,adamopt):\n",
    "    Y0,fasit=get_dataset(\"training\",4,9)#Lager et datasett med 1-ere og 7-ere\n",
    "    fasit=formatC(fasit)#Fikser formatet på fasiten\n",
    "    W,b,omega,my,J = batchTrain(Y0,fasit,K,Jtol,batchsize,adamopt)#trener opp W,b,omega og my\n",
    "    b=finalB(b,len(Y0[0]))#Utvider b slik at den passer orginalformatet\n",
    "    return W,b,omega,my, J"
   ]
  },
  {
   "cell_type": "code",
   "execution_count": 17,
   "metadata": {
    "colab": {
     "base_uri": "https://localhost:8080/",
     "height": 300
    },
    "colab_type": "code",
    "id": "--v6lwGQSNEo",
    "outputId": "4ebdb589-a98d-45ec-a036-b761830ef4dd"
   },
   "outputs": [
    {
     "data": {
      "image/png": "[encoded data removed]",
      "text/plain": [
       "<Figure size 432x288 with 1 Axes>"
      ]
     },
     "metadata": {
      "needs_background": "light"
     },
     "output_type": "display_data"
    },
    {
     "name": "stdout",
     "output_type": "stream",
     "text": [
      "Endelig test, % riktig: 95.37920642893019\n",
      "Mnist kjøretid: 89.4391553401947\n"
     ]
    }
   ],
   "source": [
    "#Dette er algoritmen vår som tester mnist. \n",
    "def mnisttest(K,Jtol,adamopt):\n",
    "    time1=time.time()#Tar tiden fra start til slutt\n",
    "    W,b,omega,my, J = mnistbatchtrain(K,Jtol,128,adamopt)\n",
    "    Jplot(J)\n",
    "    Y0,fasit2=get_dataset(\"testing\",4,9)\n",
    "\n",
    "    fasit2=formatC(fasit2)\n",
    "    b=finalB(b,len(Y0[0]))\n",
    "    Ylist=Yfinder(W,b,Y0)\n",
    "    Z=prosjisering(Ylist[-1],omega,my)\n",
    "    print(\"Endelig test, % riktig:\",answercheck(Z,fasit2))\n",
    "    time2=time.time()\n",
    "    print(\"Mnist kjøretid:\",time2-time1)\n",
    "\n",
    "\n",
    "mnisttest(2,0.01,True)\n",
    "\n"
   ]
  },
  {
   "cell_type": "markdown",
   "metadata": {
    "colab_type": "text",
    "id": "tqbX3OXGONXk"
   },
   "source": [
    "I gjennomkjøringen har vi testet med 4 og 9, men man kan velge siffer selv. Et resultat på 96.6% treffsikkerhet på testdataen med disse sifrene er meget bra, da de er meget like.\n",
    "\n",
    "Fra plottet ser man at kvadratisk avvik $J$ synker meget fort og konvergerer til en verdi etter noen iterasjoner. I denne problemstillingen kjører vi batcher for å forbedre kjøretiden. Dette resulterer i små fluktuasjoner når man går fra en batch til en annen. Programmet opptimaliseres for en batch, og når programmet starter på en ny en, er ikke programmet nødvendigvis helt riktig trent opp. Det er først etter flere batches at programmet kan sies å være godt trent."
   ]
  },
  {
   "cell_type": "markdown",
   "metadata": {
    "colab_type": "text",
    "id": "LSuwetw3R5X7"
   },
   "source": [
    "# Valg av konstanter og parametre"
   ]
  },
  {
   "cell_type": "markdown",
   "metadata": {
    "colab_type": "text",
    "id": "QYyDPGpXR951"
   },
   "source": [
    "**Valg av parametere:**  \n",
    "\n",
    "For å velge hva de ulike konstantene og parametrene skulle bli ble prøve-og-feile metoden tatt i bruk, helt til det ble funnet konstanter og parametre som ga bra resultater.\n",
    "\n",
    "$K$:  \n",
    "For valg av antall lag $K$, testet vi fra $K=2$ til $K=40$ i begge problemene. I spiralproblemet oppdaget vi at rundt 20 lag var tilstrekkelig, og vi gikk for 17 lag da dette ga bra resultater samt at kjøretiden var lav. I MNIST-problemet fant vi ut at vi ikke trengte mange lag, og at vi fikk bra resultater med $K=2$.\n",
    "\n",
    "$h$:  \n",
    "Vi testet for $h \\in [0.01, 1]$. Fra dette fant vi at $h=0.1$ ga best resultater. \n",
    "\n",
    "$\\tau$:  \n",
    "Vi prøvde med ulike verdier for læringsparameteren $\\tau \\in [0.01,0.1]$, og observerte at ved $\\tau=0.1$ flukserte objektfunksjonen $J$ mye mer enn ved $\\tau=0.01$, men at den også klarte å få mye lavere verdier for $J$. Vi tror dette skyldes at $J$ har stor sannsynlighet for å sitte fast i et lokalt minima ved lav verdi av $\\tau$. Siden en høy verdi for $\\tau$ gjør at $J$ hopper mer, klarer den i større grad å hoppe ut av lokale minima og havne nært globale minima. Vi valgte derfor $\\tau=0.1$\n",
    "  \n",
    "$\\alpha$:  \n",
    "$\\alpha$ har samme oppgave som $\\tau$, bare at der $\\tau$ brukes i vanilla optimering, brukes $\\alpha$ i Adam Descent. Ved testing av ulike verdier for $\\alpha$, observerte vi at det samme gjaldt for $\\alpha$ som gjaldt for $\\tau$, og vi valgte derfor $\\alpha=0.1$"
   ]
  }
 ],
 "metadata": {
  "colab": {
   "collapsed_sections": [
    "LSuwetw3R5X7"
   ],
   "name": "Prosjekt2Nais.ipynb",
   "provenance": [],
   "toc_visible": true
  },
  "kernelspec": {
   "display_name": "Python 3",
   "language": "python",
   "name": "python3"
  },
  "language_info": {
   "codemirror_mode": {
    "name": "ipython",
    "version": 3
   },
   "file_extension": ".py",
   "mimetype": "text/x-python",
   "name": "python",
   "nbconvert_exporter": "python",
   "pygments_lexer": "ipython3",
   "version": "3.7.6"
  }
 },
 "nbformat": 4,
 "nbformat_minor": 1
}
