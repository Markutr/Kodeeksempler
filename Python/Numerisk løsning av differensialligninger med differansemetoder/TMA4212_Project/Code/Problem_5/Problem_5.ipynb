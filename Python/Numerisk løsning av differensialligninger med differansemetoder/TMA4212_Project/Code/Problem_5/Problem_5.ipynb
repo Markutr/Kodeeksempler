{
 "cells": [
  {
   "cell_type": "markdown",
   "metadata": {},
   "source": [
    "# Problem 5"
   ]
  },
  {
   "cell_type": "code",
   "execution_count": 1,
   "metadata": {},
   "outputs": [],
   "source": [
    "import numpy as np\n",
    "import matplotlib.pyplot as plt\n",
    "\n",
    "%matplotlib qt\n",
    "\n",
    "%run Problem_5_fnc.ipynb"
   ]
  },
  {
   "cell_type": "markdown",
   "metadata": {},
   "source": [
    "## Problem 5b"
   ]
  },
  {
   "cell_type": "markdown",
   "metadata": {},
   "source": [
    "We find the approximate solution `u` to the analytic solution `u_analytic`. To estimate the error, we make a vector of x-values `x_test`, with twice as many intervals as the highest number of $N$. The output of the FEM is a linear piecewise function. To estimate the error, we integrate the difference between this piecewise function and the analytical solution over the vector `x_test`. We have approximated this integral with the trapezoidal method."
   ]
  },
  {
   "cell_type": "code",
   "execution_count": 2,
   "metadata": {
    "scrolled": false
   },
   "outputs": [
    {
     "name": "stdout",
     "output_type": "stream",
     "text": [
      "Estimated L2 order UFEM: 2.000021346831371\n",
      "Estimated H1 order UFEM: 1.037986236963437\n"
     ]
    }
   ],
   "source": [
    "def f(x):\n",
    "    return -2*np.ones_like(x)\n",
    "\n",
    "def u_analytic(x):\n",
    "    return x**2\n",
    "\n",
    "d_1 = 0\n",
    "d_2 = 1\n",
    "a = 0\n",
    "b = 1\n",
    "\n",
    "\n",
    "Ns = np.array([8, 16, 32, 64, 128, 256, 512, 1024, 2048])\n",
    "\n",
    "x_test = np.linspace(a,b,2048*8+1)\n",
    "errorsH1 = np.zeros_like(Ns, dtype='float64')\n",
    "errorsL2 = np.zeros_like(Ns, dtype='float64')\n",
    "for index, N in enumerate(Ns):\n",
    "    x = np.linspace(a,b,N+1)\n",
    "    u = Poisson.FEM(x, d_1, d_2, f)\n",
    "\n",
    "    #Create a piecewise linear interpolation of the u vector\n",
    "    interpolation = interp1d(x, u)\n",
    "\n",
    "    #Compute errors\n",
    "    errorsH1[index] = H1(u_analytic(x_test) - interpolation(x_test), x_test)/H1(u_analytic(x_test), x_test)\n",
    "    errorsL2[index] = L2(u_analytic(x_test) - interpolation(x_test), x_test)/L2(u_analytic(x_test), x_test)\n",
    "\n",
    "fig, axs = plt.subplots()\n",
    "\n",
    "#Plot L2 error and expected order 2\n",
    "axs.loglog(Ns, errorsL2, label=\"$L_2$ error\", linestyle=None, marker=\".\")\n",
    "axs.loglog(*expectedOrder(Ns[0], Ns[-1], errorsL2[0], 2), label=\"Expected order 2\")\n",
    "\n",
    "#Plot H1 error and expected order 1\n",
    "axs.loglog(Ns, errorsH1, label=\"$H_1$ error\", linestyle=None, marker=\".\")\n",
    "axs.loglog(*expectedOrder(Ns[0], Ns[-1], errorsH1[0], 1), label=\"Expected order 1\")\n",
    "\n",
    "#Plot layout\n",
    "axs.grid()\n",
    "axs.set_xlabel(\"$N$\")\n",
    "axs.set_ylabel(\"Relative error $e^r_{(\\cdot)}$\")\n",
    "axs.legend()\n",
    "\n",
    "plt.show()\n",
    "\n",
    "print(\"Estimated L2 order UFEM:\", estimateOrder(Ns, errorsL2))\n",
    "print(\"Estimated H1 order UFEM:\", estimateOrder(Ns, errorsH1))"
   ]
  },
  {
   "cell_type": "code",
   "execution_count": 3,
   "metadata": {},
   "outputs": [
    {
     "name": "stdout",
     "output_type": "stream",
     "text": [
      "                  \n",
      "Average order L2 max - criterion:    1.5000000419130195\n",
      "Average order H1 max - criterion:    1.0093677384465607\n",
      "                  \n",
      "Average order L2 avg - criterion:    1.5000000419130195\n",
      "Average order H1 avg - criterion:    1.0093677384465607\n"
     ]
    }
   ],
   "source": [
    "x1 = np.linspace(a,b,21)\n",
    "x2 = np.linspace(a,b,21)\n",
    "fig, axs = plt.subplots()\n",
    "fig, axs = Poisson.AFEM(x1, d_1, d_2, f, u_analytic, 2048, method=\"max\", fig=fig, ax=axs, plotExpected=False)\n",
    "fig, axs = Poisson.AFEM(x2, d_1, d_2, f, u_analytic, 2048, method=\"avg\", fig=fig, ax=axs)\n",
    "axs.legend()\n",
    "axs.set_ylabel(\"Relative error $e^r_{(\\cdot)}$\")\n",
    "axs.grid()\n",
    "axs.set_xlabel(\"$N$\")\n",
    "plt.show()"
   ]
  },
  {
   "cell_type": "markdown",
   "metadata": {},
   "source": [
    "## Problem 5c"
   ]
  },
  {
   "cell_type": "code",
   "execution_count": 4,
   "metadata": {
    "scrolled": false
   },
   "outputs": [
    {
     "name": "stdout",
     "output_type": "stream",
     "text": [
      "Estimated L2 order UFEM: 1.8254919940303023\n",
      "Estimated H1 order UFEM: 0.8706555241734514\n"
     ]
    }
   ],
   "source": [
    "def f(x):\n",
    "    return -1*(40000*x**2 - 200)*np.exp(-100*x**2)\n",
    "\n",
    "def u_analytic(x):\n",
    "    return np.exp(-100*x**2)\n",
    "\n",
    "d_1 = np.exp(-100)\n",
    "d_2 = np.exp(-100)\n",
    "a = -1\n",
    "b = 1\n",
    "\n",
    "Ns = np.array([8, 16, 32, 64, 128, 256, 512, 1024, 2048])\n",
    "\n",
    "x_test = np.linspace(a,b,2048*8+1)\n",
    "\n",
    "errorsH1 = np.zeros_like(Ns, dtype='float64')\n",
    "errorsL2 = np.zeros_like(Ns, dtype='float64')\n",
    "for index, N in enumerate(Ns):\n",
    "    x = np.linspace(a,b,N+1)\n",
    "    u = Poisson.FEM(x, d_1, d_2, f)\n",
    "        \n",
    "    #Create a piecewise linear interpolation of the u vector\n",
    "    interpolation = linear_piecewise(x, u)\n",
    "    \n",
    "    #Compute errors\n",
    "    errorsH1[index] = H1(u_analytic(x_test) - interpolation(x_test), x_test)/H1(u_analytic(x_test), x_test)\n",
    "    errorsL2[index] = L2(u_analytic(x_test) - interpolation(x_test), x_test)/L2(u_analytic(x_test), x_test)\n",
    "\n",
    "fig, axs = plt.subplots()\n",
    "\n",
    "#Plot L2 error and expected order 2\n",
    "axs.loglog(Ns, errorsL2, label=\"$L_2$ error\", linestyle=None, marker=\".\")\n",
    "axs.loglog(*expectedOrder(Ns[0], Ns[-1], errorsL2[0], 2), label=\"Expected order 2\")\n",
    "\n",
    "#Plot H1 error and expected order 1\n",
    "axs.loglog(Ns, errorsH1, label=\"$H_1$ error\", linestyle=None, marker=\".\")\n",
    "axs.loglog(*expectedOrder(Ns[0], Ns[-1], errorsH1[0], 1), label=\"Expected order 1\")\n",
    "\n",
    "#Plot layout\n",
    "axs.grid()\n",
    "axs.set_xlabel(\"$N$\")\n",
    "axs.set_ylabel(\"Relative error $e^r_{(\\cdot)}$\")\n",
    "axs.legend()\n",
    "\n",
    "plt.show()\n",
    "\n",
    "print(\"Estimated L2 order UFEM:\", estimateOrder(Ns, errorsL2))\n",
    "print(\"Estimated H1 order UFEM:\", estimateOrder(Ns[:-1], errorsH1[:-1]))"
   ]
  },
  {
   "cell_type": "code",
   "execution_count": 5,
   "metadata": {},
   "outputs": [
    {
     "name": "stdout",
     "output_type": "stream",
     "text": [
      "                  \n",
      "Average order L2 max - criterion:    1.9298996758231406\n",
      "Average order H1 max - criterion:    1.3612204942072488\n",
      "                  \n",
      "Average order L2 avg - criterion:    1.953450081680863\n",
      "Average order H1 avg - criterion:    1.3699962429982255\n"
     ]
    }
   ],
   "source": [
    "x1 = np.linspace(a,b,21)\n",
    "x2 = np.linspace(a,b,21)\n",
    "fig, axs = plt.subplots()\n",
    "fig, axs = Poisson.AFEM(x1, d_1, d_2, f, u_analytic, 2048, method=\"max\", fig=fig, ax=axs, plotExpected=False)\n",
    "fig, axs = Poisson.AFEM(x2, d_1, d_2, f, u_analytic, 2048, method=\"avg\", fig=fig, ax=axs)\n",
    "axs.legend()\n",
    "axs.set_ylabel(\"Relative error $e^r_{(\\cdot)}$\")\n",
    "axs.grid()\n",
    "axs.set_xlabel(\"$N$\")\n",
    "plt.show()"
   ]
  },
  {
   "cell_type": "markdown",
   "metadata": {},
   "source": [
    "## Problem 5d"
   ]
  },
  {
   "cell_type": "code",
   "execution_count": 6,
   "metadata": {},
   "outputs": [
    {
     "name": "stdout",
     "output_type": "stream",
     "text": [
      "Estimated L2 order UFEM: 1.6723515441942838\n",
      "Estimated H1 order UFEM: 0.7142382885718512\n"
     ]
    }
   ],
   "source": [
    "def f(x):\n",
    "    return -1*(4000000*x**2 - 2000)*np.exp(-1000*x**2)\n",
    "\n",
    "def u_analytic(x):\n",
    "    return np.exp(-1000*x**2)\n",
    "\n",
    "d_1 = np.exp(-1000)\n",
    "d_2 = np.exp(-1000)\n",
    "a = -1\n",
    "b = 1\n",
    "\n",
    "Ns = np.array([8, 16, 32, 64, 128, 256, 512, 1024, 2048])\n",
    "\n",
    "x_test = np.linspace(a,b,2048*8+1)\n",
    "\n",
    "errorsH1 = np.zeros_like(Ns, dtype='float64')\n",
    "errorsL2 = np.zeros_like(Ns, dtype='float64')\n",
    "for index, N in enumerate(Ns):\n",
    "    x = np.linspace(a,b,N+1)\n",
    "    u = Poisson.FEM(x, d_1, d_2, f)\n",
    "        \n",
    "    #Create a piecewise linear interpolation of the u vector\n",
    "    interpolation = linear_piecewise(x, u)\n",
    "    \n",
    "    #Compute errors\n",
    "    errorsH1[index] = H1(u_analytic(x_test) - interpolation(x_test), x_test)/H1(u_analytic(x_test), x_test)\n",
    "    errorsL2[index] = L2(u_analytic(x_test) - interpolation(x_test), x_test)/L2(u_analytic(x_test), x_test)\n",
    "\n",
    "fig, axs = plt.subplots()\n",
    "\n",
    "#Plot L2 error and expected order 2\n",
    "axs.loglog(Ns, errorsL2, label=\"$L_2$ error\", linestyle=None, marker=\".\")\n",
    "axs.loglog(*expectedOrder(Ns[0], Ns[-1], errorsL2[0], 2), label=\"Expected order 2\")\n",
    "\n",
    "#Plot H1 error and expected order 1\n",
    "axs.loglog(Ns, errorsH1, label=\"$H_1$ error\", linestyle=None, marker=\".\")\n",
    "axs.loglog(*expectedOrder(Ns[0], Ns[-1], errorsH1[0], 1), label=\"Expected order 1\")\n",
    "\n",
    "#Plot layout\n",
    "axs.grid()\n",
    "axs.set_xlabel(\"$N$\")\n",
    "axs.set_ylabel(\"Relative error $e^r_{(\\cdot)}$\")\n",
    "axs.legend()\n",
    "\n",
    "plt.show()\n",
    "\n",
    "print(\"Estimated L2 order UFEM:\", estimateOrder(Ns, errorsL2))\n",
    "print(\"Estimated H1 order UFEM:\", estimateOrder(Ns[:-1], errorsH1[:-1]))"
   ]
  },
  {
   "cell_type": "code",
   "execution_count": 7,
   "metadata": {},
   "outputs": [
    {
     "name": "stdout",
     "output_type": "stream",
     "text": [
      "                  \n",
      "Average order L2 max - criterion:    2.1810505987720465\n",
      "Average order H1 max - criterion:    1.6496426097533576\n",
      "                  \n",
      "Average order L2 avg - criterion:    2.181359027027212\n",
      "Average order H1 avg - criterion:    1.6529979732609086\n"
     ]
    }
   ],
   "source": [
    "x1 = np.linspace(a,b,21)\n",
    "x2 = np.linspace(a,b,21)\n",
    "fig, axs = plt.subplots()\n",
    "fig, axs = Poisson.AFEM(x1, d_1, d_2, f, u_analytic, 2048, method=\"max\", fig=fig, ax=axs, plotExpected=False)\n",
    "fig, axs = Poisson.AFEM(x2, d_1, d_2, f, u_analytic, 2048, method=\"avg\", fig=fig, ax=axs)\n",
    "axs.legend()\n",
    "axs.set_ylabel(\"Relative error $e^r_{(\\cdot)}$\")\n",
    "axs.grid()\n",
    "axs.set_xlabel(\"$N$\")\n",
    "plt.show()"
   ]
  },
  {
   "cell_type": "markdown",
   "metadata": {},
   "source": [
    "## Problem 5e"
   ]
  },
  {
   "cell_type": "code",
   "execution_count": 8,
   "metadata": {
    "scrolled": true
   },
   "outputs": [
    {
     "name": "stderr",
     "output_type": "stream",
     "text": [
      "C:\\Users\\ejors\\anaconda3\\lib\\site-packages\\scipy\\integrate\\_quadrature.py:259: AccuracyWarning: maxiter (50) exceeded. Latest difference = 4.147114e-02\n",
      "  warnings.warn(\n",
      "C:\\Users\\ejors\\anaconda3\\lib\\site-packages\\scipy\\integrate\\_quadrature.py:259: AccuracyWarning: maxiter (50) exceeded. Latest difference = 3.229669e-06\n",
      "  warnings.warn(\n",
      "C:\\Users\\ejors\\anaconda3\\lib\\site-packages\\scipy\\integrate\\_quadrature.py:259: AccuracyWarning: maxiter (50) exceeded. Latest difference = 2.612518e-02\n",
      "  warnings.warn(\n",
      "C:\\Users\\ejors\\anaconda3\\lib\\site-packages\\scipy\\integrate\\_quadrature.py:259: AccuracyWarning: maxiter (50) exceeded. Latest difference = 2.034564e-06\n",
      "  warnings.warn(\n",
      "C:\\Users\\ejors\\anaconda3\\lib\\site-packages\\scipy\\integrate\\_quadrature.py:259: AccuracyWarning: maxiter (50) exceeded. Latest difference = 1.645783e-02\n",
      "  warnings.warn(\n",
      "C:\\Users\\ejors\\anaconda3\\lib\\site-packages\\scipy\\integrate\\_quadrature.py:259: AccuracyWarning: maxiter (50) exceeded. Latest difference = 1.281695e-06\n",
      "  warnings.warn(\n",
      "C:\\Users\\ejors\\anaconda3\\lib\\site-packages\\scipy\\integrate\\_quadrature.py:259: AccuracyWarning: maxiter (50) exceeded. Latest difference = 1.036779e-02\n",
      "  warnings.warn(\n",
      "C:\\Users\\ejors\\anaconda3\\lib\\site-packages\\scipy\\integrate\\_quadrature.py:259: AccuracyWarning: maxiter (50) exceeded. Latest difference = 8.074173e-07\n",
      "  warnings.warn(\n",
      "C:\\Users\\ejors\\anaconda3\\lib\\site-packages\\scipy\\integrate\\_quadrature.py:259: AccuracyWarning: maxiter (50) exceeded. Latest difference = 6.531296e-03\n",
      "  warnings.warn(\n",
      "C:\\Users\\ejors\\anaconda3\\lib\\site-packages\\scipy\\integrate\\_quadrature.py:259: AccuracyWarning: maxiter (50) exceeded. Latest difference = 5.086410e-07\n",
      "  warnings.warn(\n",
      "C:\\Users\\ejors\\anaconda3\\lib\\site-packages\\scipy\\integrate\\_quadrature.py:259: AccuracyWarning: maxiter (50) exceeded. Latest difference = 4.114458e-03\n",
      "  warnings.warn(\n",
      "C:\\Users\\ejors\\anaconda3\\lib\\site-packages\\scipy\\integrate\\_quadrature.py:259: AccuracyWarning: maxiter (50) exceeded. Latest difference = 3.204238e-07\n",
      "  warnings.warn(\n",
      "C:\\Users\\ejors\\anaconda3\\lib\\site-packages\\scipy\\integrate\\_quadrature.py:259: AccuracyWarning: maxiter (50) exceeded. Latest difference = 2.591946e-03\n",
      "  warnings.warn(\n",
      "C:\\Users\\ejors\\anaconda3\\lib\\site-packages\\scipy\\integrate\\_quadrature.py:259: AccuracyWarning: maxiter (50) exceeded. Latest difference = 2.018543e-07\n",
      "  warnings.warn(\n",
      "C:\\Users\\ejors\\anaconda3\\lib\\site-packages\\scipy\\integrate\\_quadrature.py:259: AccuracyWarning: maxiter (50) exceeded. Latest difference = 1.632824e-03\n",
      "  warnings.warn(\n",
      "C:\\Users\\ejors\\anaconda3\\lib\\site-packages\\scipy\\integrate\\_quadrature.py:259: AccuracyWarning: maxiter (50) exceeded. Latest difference = 1.271603e-07\n",
      "  warnings.warn(\n",
      "C:\\Users\\ejors\\anaconda3\\lib\\site-packages\\scipy\\integrate\\_quadrature.py:259: AccuracyWarning: maxiter (50) exceeded. Latest difference = 1.028615e-03\n",
      "  warnings.warn(\n",
      "C:\\Users\\ejors\\anaconda3\\lib\\site-packages\\scipy\\integrate\\_quadrature.py:259: AccuracyWarning: maxiter (50) exceeded. Latest difference = 8.010595e-08\n",
      "  warnings.warn(\n"
     ]
    },
    {
     "name": "stdout",
     "output_type": "stream",
     "text": [
      "Estimated L2 order UFEM: 1.1652797531320076\n",
      "Estimated H1 order UFEM: 0.19552749017616275\n"
     ]
    }
   ],
   "source": [
    "def f(x):\n",
    "    return 2/9*x**(-4/3)\n",
    "\n",
    "def u_analytic(x):\n",
    "    return x**(2/3)\n",
    "\n",
    "d_1 = 0\n",
    "d_2 = 1\n",
    "a = 0\n",
    "b = 1\n",
    "\n",
    "Ns = np.array([8, 16, 32, 64, 128, 256, 512, 1024, 2048])\n",
    "\n",
    "x_test = np.linspace(a,b,2048*32+1)\n",
    "\n",
    "errorsH1 = np.zeros_like(Ns, dtype='float64')\n",
    "errorsL2 = np.zeros_like(Ns, dtype='float64')\n",
    "for index, N in enumerate(Ns):\n",
    "    x = np.linspace(a,b,N+1)\n",
    "    u = Poisson.FEM(x, d_1, d_2, f)\n",
    "        \n",
    "    #Create a piecewise linear interpolation of the u vector\n",
    "    interpolation = linear_piecewise(x, u)\n",
    "    \n",
    "    #Compute errors\n",
    "    errorsH1[index] = H1(u_analytic(x_test) - interpolation(x_test), x_test)/H1(u_analytic(x_test), x_test)\n",
    "    errorsL2[index] = L2(u_analytic(x_test) - interpolation(x_test), x_test)/L2(u_analytic(x_test), x_test)\n",
    "\n",
    "fig, axs = plt.subplots()\n",
    "\n",
    "#Plot L2 error and expected order 2\n",
    "axs.loglog(Ns, errorsL2, label=\"$L_2$ error\", linestyle=None, marker=\".\")\n",
    "axs.loglog(*expectedOrder(Ns[0], Ns[-1], errorsL2[0], 2), label=\"Expected order 2\")\n",
    "\n",
    "#Plot H1 error and expected order 1\n",
    "axs.loglog(Ns, errorsH1, label=\"$H_1$ error\", linestyle=None, marker=\".\")\n",
    "axs.loglog(*expectedOrder(Ns[0], Ns[-1], errorsH1[0], 1), label=\"Expected order 1\")\n",
    "\n",
    "#Plot layout\n",
    "axs.grid()\n",
    "axs.set_xlabel(\"$N$\")\n",
    "axs.set_ylabel(\"Relative error $e^r_{(\\cdot)}$\")\n",
    "axs.legend()\n",
    "\n",
    "plt.show()\n",
    "\n",
    "print(\"Estimated L2 order UFEM:\", estimateOrder(Ns, errorsL2))\n",
    "print(\"Estimated H1 order UFEM:\", estimateOrder(Ns[:-1], errorsH1[:-1]))"
   ]
  },
  {
   "cell_type": "code",
   "execution_count": 9,
   "metadata": {},
   "outputs": [
    {
     "name": "stdout",
     "output_type": "stream",
     "text": [
      "\r",
      " N = 21\r",
      " N = 22\r",
      " N = 23"
     ]
    },
    {
     "name": "stderr",
     "output_type": "stream",
     "text": [
      "C:\\Users\\ejors\\anaconda3\\lib\\site-packages\\scipy\\integrate\\_quadrature.py:259: AccuracyWarning: maxiter (50) exceeded. Latest difference = 2.251400e-02\n",
      "  warnings.warn(\n",
      "C:\\Users\\ejors\\anaconda3\\lib\\site-packages\\scipy\\integrate\\_quadrature.py:259: AccuracyWarning: maxiter (50) exceeded. Latest difference = 1.753334e-06\n",
      "  warnings.warn(\n",
      "C:\\Users\\ejors\\anaconda3\\lib\\site-packages\\scipy\\integrate\\_quadrature.py:259: AccuracyWarning: maxiter (50) exceeded. Latest difference = 1.418293e-02\n",
      "  warnings.warn(\n",
      "C:\\Users\\ejors\\anaconda3\\lib\\site-packages\\scipy\\integrate\\_quadrature.py:259: AccuracyWarning: maxiter (50) exceeded. Latest difference = 1.104531e-06\n",
      "  warnings.warn(\n",
      "C:\\Users\\ejors\\anaconda3\\lib\\site-packages\\scipy\\integrate\\_quadrature.py:259: AccuracyWarning: maxiter (50) exceeded. Latest difference = 8.934687e-03\n",
      "  warnings.warn(\n",
      "C:\\Users\\ejors\\anaconda3\\lib\\site-packages\\scipy\\integrate\\_quadrature.py:259: AccuracyWarning: maxiter (50) exceeded. Latest difference = 6.958112e-07\n",
      "  warnings.warn(\n",
      "C:\\Users\\ejors\\anaconda3\\lib\\site-packages\\scipy\\integrate\\_quadrature.py:259: AccuracyWarning: maxiter (50) exceeded. Latest difference = 5.628500e-03\n",
      "  warnings.warn(\n",
      "C:\\Users\\ejors\\anaconda3\\lib\\site-packages\\scipy\\integrate\\_quadrature.py:259: AccuracyWarning: maxiter (50) exceeded. Latest difference = 4.383336e-07\n",
      "  warnings.warn(\n",
      "C:\\Users\\ejors\\anaconda3\\lib\\site-packages\\scipy\\integrate\\_quadrature.py:259: AccuracyWarning: maxiter (50) exceeded. Latest difference = 3.545733e-03\n",
      "  warnings.warn(\n",
      "C:\\Users\\ejors\\anaconda3\\lib\\site-packages\\scipy\\integrate\\_quadrature.py:259: AccuracyWarning: maxiter (50) exceeded. Latest difference = 2.761328e-07\n",
      "  warnings.warn(\n",
      "C:\\Users\\ejors\\anaconda3\\lib\\site-packages\\scipy\\integrate\\_quadrature.py:259: AccuracyWarning: maxiter (50) exceeded. Latest difference = 2.233672e-03\n",
      "  warnings.warn(\n",
      "C:\\Users\\ejors\\anaconda3\\lib\\site-packages\\scipy\\integrate\\_quadrature.py:259: AccuracyWarning: maxiter (50) exceeded. Latest difference = 1.739528e-07\n",
      "  warnings.warn(\n"
     ]
    },
    {
     "name": "stdout",
     "output_type": "stream",
     "text": [
      " N = 40\r"
     ]
    },
    {
     "name": "stderr",
     "output_type": "stream",
     "text": [
      "C:\\Users\\ejors\\anaconda3\\lib\\site-packages\\scipy\\integrate\\_quadrature.py:259: AccuracyWarning: maxiter (50) exceeded. Latest difference = 1.407125e-03\n",
      "  warnings.warn(\n",
      "C:\\Users\\ejors\\anaconda3\\lib\\site-packages\\scipy\\integrate\\_quadrature.py:259: AccuracyWarning: maxiter (50) exceeded. Latest difference = 1.095834e-07\n",
      "  warnings.warn(\n",
      "C:\\Users\\ejors\\anaconda3\\lib\\site-packages\\scipy\\integrate\\_quadrature.py:259: AccuracyWarning: maxiter (50) exceeded. Latest difference = 8.864332e-04\n",
      "  warnings.warn(\n",
      "C:\\Users\\ejors\\anaconda3\\lib\\site-packages\\scipy\\integrate\\_quadrature.py:259: AccuracyWarning: maxiter (50) exceeded. Latest difference = 6.903321e-08\n",
      "  warnings.warn(\n",
      "C:\\Users\\ejors\\anaconda3\\lib\\site-packages\\scipy\\integrate\\_quadrature.py:259: AccuracyWarning: maxiter (50) exceeded. Latest difference = 5.584179e-04\n",
      "  warnings.warn(\n",
      "C:\\Users\\ejors\\anaconda3\\lib\\site-packages\\scipy\\integrate\\_quadrature.py:259: AccuracyWarning: maxiter (50) exceeded. Latest difference = 4.348820e-08\n",
      "  warnings.warn(\n"
     ]
    },
    {
     "name": "stdout",
     "output_type": "stream",
     "text": [
      " N = 135"
     ]
    },
    {
     "name": "stderr",
     "output_type": "stream",
     "text": [
      "C:\\Users\\ejors\\anaconda3\\lib\\site-packages\\scipy\\integrate\\_quadrature.py:259: AccuracyWarning: maxiter (50) exceeded. Latest difference = 3.517812e-04\n",
      "  warnings.warn(\n",
      "C:\\Users\\ejors\\anaconda3\\lib\\site-packages\\scipy\\integrate\\_quadrature.py:259: AccuracyWarning: maxiter (50) exceeded. Latest difference = 2.739585e-08\n",
      "  warnings.warn(\n",
      "C:\\Users\\ejors\\anaconda3\\lib\\site-packages\\scipy\\integrate\\_quadrature.py:259: AccuracyWarning: maxiter (50) exceeded. Latest difference = 2.216083e-04\n",
      "  warnings.warn(\n",
      "C:\\Users\\ejors\\anaconda3\\lib\\site-packages\\scipy\\integrate\\_quadrature.py:259: AccuracyWarning: maxiter (50) exceeded. Latest difference = 1.725830e-08\n",
      "  warnings.warn(\n"
     ]
    },
    {
     "name": "stdout",
     "output_type": "stream",
     "text": [
      " N = 208"
     ]
    },
    {
     "name": "stderr",
     "output_type": "stream",
     "text": [
      "C:\\Users\\ejors\\anaconda3\\lib\\site-packages\\scipy\\integrate\\_quadrature.py:259: AccuracyWarning: maxiter (50) exceeded. Latest difference = 1.396045e-04\n",
      "  warnings.warn(\n"
     ]
    },
    {
     "name": "stdout",
     "output_type": "stream",
     "text": [
      " N = 284"
     ]
    },
    {
     "name": "stderr",
     "output_type": "stream",
     "text": [
      "C:\\Users\\ejors\\anaconda3\\lib\\site-packages\\scipy\\integrate\\_quadrature.py:259: AccuracyWarning: maxiter (50) exceeded. Latest difference = 8.794531e-05\n",
      "  warnings.warn(\n"
     ]
    },
    {
     "name": "stdout",
     "output_type": "stream",
     "text": [
      " N = 377"
     ]
    },
    {
     "name": "stderr",
     "output_type": "stream",
     "text": [
      "C:\\Users\\ejors\\anaconda3\\lib\\site-packages\\scipy\\integrate\\_quadrature.py:259: AccuracyWarning: maxiter (50) exceeded. Latest difference = 5.540207e-05\n",
      "  warnings.warn(\n"
     ]
    },
    {
     "name": "stdout",
     "output_type": "stream",
     "text": [
      " N = 605"
     ]
    },
    {
     "name": "stderr",
     "output_type": "stream",
     "text": [
      "C:\\Users\\ejors\\anaconda3\\lib\\site-packages\\scipy\\integrate\\_quadrature.py:259: AccuracyWarning: maxiter (50) exceeded. Latest difference = 3.490112e-05\n",
      "  warnings.warn(\n"
     ]
    },
    {
     "name": "stdout",
     "output_type": "stream",
     "text": [
      "\r",
      " N = 706"
     ]
    },
    {
     "name": "stderr",
     "output_type": "stream",
     "text": [
      "C:\\Users\\ejors\\anaconda3\\lib\\site-packages\\scipy\\integrate\\_quadrature.py:259: AccuracyWarning: maxiter (50) exceeded. Latest difference = 2.198633e-05\n",
      "  warnings.warn(\n"
     ]
    },
    {
     "name": "stdout",
     "output_type": "stream",
     "text": [
      " N = 1020"
     ]
    },
    {
     "name": "stderr",
     "output_type": "stream",
     "text": [
      "C:\\Users\\ejors\\anaconda3\\lib\\site-packages\\scipy\\integrate\\_quadrature.py:259: AccuracyWarning: maxiter (50) exceeded. Latest difference = 1.385052e-05\n",
      "  warnings.warn(\n"
     ]
    },
    {
     "name": "stdout",
     "output_type": "stream",
     "text": [
      " N = 1452"
     ]
    },
    {
     "name": "stderr",
     "output_type": "stream",
     "text": [
      "C:\\Users\\ejors\\anaconda3\\lib\\site-packages\\scipy\\integrate\\_quadrature.py:259: AccuracyWarning: maxiter (50) exceeded. Latest difference = 8.725280e-06\n",
      "  warnings.warn(\n"
     ]
    },
    {
     "name": "stdout",
     "output_type": "stream",
     "text": [
      "                  \n",
      "Average order L2 max - criterion:    1.5265732678293338\n",
      "Average order H1 max - criterion:    1.3974976736432176\n",
      "                  \n",
      "Average order L2 avg - criterion:    1.4668237080629154\n",
      "Average order H1 avg - criterion:    1.3747978615807646\n"
     ]
    }
   ],
   "source": [
    "x1 = np.linspace(a,b,21)\n",
    "x2 = np.linspace(a,b,21)\n",
    "fig, axs = plt.subplots()\n",
    "fig, axs = Poisson.AFEM(x1, d_1, d_2, f, u_analytic, 2048, method=\"max\", fig=fig, ax=axs, plotExpected=False)\n",
    "fig, axs = Poisson.AFEM(x2, d_1, d_2, f, u_analytic, 2048, method=\"avg\", fig=fig, ax=axs)\n",
    "axs.legend()\n",
    "axs.set_ylabel(\"Relative error $e^r_{(\\cdot)}$\")\n",
    "axs.grid()\n",
    "axs.set_xlabel(\"$N$\")\n",
    "plt.show()"
   ]
  }
 ],
 "metadata": {
  "kernelspec": {
   "display_name": "Python 3",
   "language": "python",
   "name": "python3"
  },
  "language_info": {
   "codemirror_mode": {
    "name": "ipython",
    "version": 3
   },
   "file_extension": ".py",
   "mimetype": "text/x-python",
   "name": "python",
   "nbconvert_exporter": "python",
   "pygments_lexer": "ipython3",
   "version": "3.7.4"
  }
 },
 "nbformat": 4,
 "nbformat_minor": 4
}
